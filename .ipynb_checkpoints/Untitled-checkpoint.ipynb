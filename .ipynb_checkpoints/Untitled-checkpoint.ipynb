{
 "cells": [
  {
   "cell_type": "code",
   "execution_count": 1,
   "metadata": {},
   "outputs": [],
   "source": [
    "import praw\n",
    "\n"
   ]
  },
  {
   "cell_type": "code",
   "execution_count": 2,
   "metadata": {},
   "outputs": [
    {
     "name": "stdout",
     "output_type": "stream",
     "text": [
      "False\n"
     ]
    }
   ],
   "source": [
    "print(reddit.read_only)"
   ]
  },
  {
   "cell_type": "code",
   "execution_count": 37,
   "metadata": {},
   "outputs": [],
   "source": [
    "sub = reddit.subreddit('dataisbeautiful')"
   ]
  },
  {
   "cell_type": "code",
   "execution_count": 39,
   "metadata": {},
   "outputs": [
    {
     "data": {
      "text/plain": [
       "'\\nGoal:\\n1. Obtain a post\\n2. pull the image of that post and save to some directory (or save the link)\\n3. Save the subreddit\\n'"
      ]
     },
     "execution_count": 39,
     "metadata": {},
     "output_type": "execute_result"
    }
   ],
   "source": [
    "'''\n",
    "Goal:\n",
    "1. Obtain a post\n",
    "2. pull the image of that post and save to some directory (or save the link)\n",
    "3. Save the subreddit\n",
    "'''"
   ]
  },
  {
   "cell_type": "code",
   "execution_count": 4,
   "metadata": {},
   "outputs": [],
   "source": [
    "redditInfo = {}\n",
    "submissions = []"
   ]
  },
  {
   "cell_type": "code",
   "execution_count": 7,
   "metadata": {},
   "outputs": [
    {
     "ename": "SyntaxError",
     "evalue": "invalid syntax (<ipython-input-7-466973d0d5b8>, line 1)",
     "output_type": "error",
     "traceback": [
      "\u001b[0;36m  File \u001b[0;32m\"<ipython-input-7-466973d0d5b8>\"\u001b[0;36m, line \u001b[0;32m1\u001b[0m\n\u001b[0;31m    for submission in reddit.subreddit('pics').hot(limit=):\u001b[0m\n\u001b[0m                                                         ^\u001b[0m\n\u001b[0;31mSyntaxError\u001b[0m\u001b[0;31m:\u001b[0m invalid syntax\n"
     ]
    }
   ],
   "source": [
    "for submission in reddit.subreddit('pics').hot(limit=2):\n",
    "    redditInfo['title'] = submission.title\n",
    "    redditInfo['url'] = submission.url\n",
    "    redditInfo['subreddit'] = submission.subreddit"
   ]
  },
  {
   "cell_type": "code",
   "execution_count": 6,
   "metadata": {},
   "outputs": [
    {
     "data": {
      "text/plain": [
       "{'title': 'March Transparency Report',\n",
       " 'url': 'https://www.reddit.com/r/pics/comments/b9asl1/march_transparency_report/',\n",
       " 'subreddit': Subreddit(display_name='pics')}"
      ]
     },
     "execution_count": 6,
     "metadata": {},
     "output_type": "execute_result"
    }
   ],
   "source": [
    "redditInfo"
   ]
  },
  {
   "cell_type": "code",
   "execution_count": 52,
   "metadata": {},
   "outputs": [
    {
     "data": {
      "text/plain": [
       "praw.models.reddit.subreddit.Subreddit"
      ]
     },
     "execution_count": 52,
     "metadata": {},
     "output_type": "execute_result"
    }
   ],
   "source": [
    "# redditInfo['subreddit'] is a PRAW subreddit object:\n",
    "type(redditInfo['subreddit'])"
   ]
  },
  {
   "cell_type": "code",
   "execution_count": 44,
   "metadata": {},
   "outputs": [
    {
     "data": {
      "text/plain": [
       "Submission(id='bhemnn')"
      ]
     },
     "execution_count": 44,
     "metadata": {},
     "output_type": "execute_result"
    }
   ],
   "source": [
    "# this will repost the fetched post and return the post id for later tracking\n",
    "submitted = redditInfo['subreddit'].submit(title=redditInfo['title'], url=redditInfo['url'])\n",
    "# Append to a list tracking these items\n",
    "submissions.append(submitted)"
   ]
  },
  {
   "cell_type": "code",
   "execution_count": 45,
   "metadata": {},
   "outputs": [
    {
     "data": {
      "text/plain": [
       "'\\nTODO:\\nGet an OLD highly upvoted post\\nMake it wait to repost later that day or the next day\\nLook into hosting on Heroku?\\n'"
      ]
     },
     "execution_count": 45,
     "metadata": {},
     "output_type": "execute_result"
    }
   ],
   "source": [
    "'''\n",
    "TODO:\n",
    "Get an OLD highly upvoted post\n",
    "Make it wait to repost later that day or the next day\n",
    "Look into hosting on Heroku?\n",
    "'''"
   ]
  },
  {
   "cell_type": "code",
   "execution_count": null,
   "metadata": {},
   "outputs": [],
   "source": [
    "def get_post(sub='pics'):\n",
    "    '''\n",
    "    Gets Post data\n",
    "    Append this output to a list\n",
    "    '''\n",
    "    \n",
    "    # dictionary to store the fetched info\n",
    "    redditInfo = {}\n",
    "    # obtaining the top post info and passing it to a dict\n",
    "    for submission in reddit.subreddit(sub).hot(limit=1):\n",
    "        redditInfo['title'] = submission.title\n",
    "        redditInfo['url'] = submission.url\n",
    "        redditInfo['subreddit'] = submission.subreddit\n",
    "\n",
    "    # return the dictionary (to be appended to a list)\n",
    "    return redditInfo"
   ]
  },
  {
   "cell_type": "code",
   "execution_count": null,
   "metadata": {},
   "outputs": [],
   "source": [
    "def submit_post(post_dict):\n",
    "    '''\n",
    "    Posts scraped post to the subreddit in the dictionary\n",
    "    Does not handle non-link (text) posts yet \n",
    "    '''\n",
    "    # this will repost the fetched post and return the post id for later tracking\n",
    "    submitted = post_dict['subreddit'].submit(title=post_dict['title'], url=post_dict['url'])\n",
    "    # return for main dict\n",
    "    return submitted\n",
    "    "
   ]
  },
  {
   "cell_type": "code",
   "execution_count": null,
   "metadata": {},
   "outputs": [],
   "source": [
    "def scrape_post_collect():\n",
    "    posts = {}\n",
    "    \n",
    "    for _ in range(0,4):\n",
    "        # get a top post from r/pics\n",
    "        post_info = get_post()\n",
    "        # log for debugging\n",
    "        print(post_info) \n",
    "        # sleep and repost in 24 hours\n",
    "        time.sleep(86400)\n",
    "        # resubmit the post\n",
    "        post_id = submit_post(post_info)\n",
    "        # append post_id and post_info to a dictionary for later parsing\n",
    "        posts[post_id] = post_info\n",
    "        \n",
    "    "
   ]
  },
  {
   "cell_type": "code",
   "execution_count": 61,
   "metadata": {},
   "outputs": [],
   "source": [
    "testDict = {'post1':{'title':'my grandmas shorts','url':'google.com','subreddit':'subreddit object'},\n",
    "            'post2':{'title':'my grandmas shorts','url':'google.com','subreddit':'subreddit object'}\n",
    "           \n",
    "           }"
   ]
  },
  {
   "cell_type": "code",
   "execution_count": 57,
   "metadata": {},
   "outputs": [],
   "source": [
    "import pandas as pd"
   ]
  },
  {
   "cell_type": "code",
   "execution_count": 59,
   "metadata": {},
   "outputs": [],
   "source": [
    "pd.DataFrame(testDict).to_csv('output.csv')"
   ]
  },
  {
   "cell_type": "code",
   "execution_count": null,
   "metadata": {},
   "outputs": [],
   "source": []
  }
 ],
 "metadata": {
  "kernelspec": {
   "display_name": "Python 3",
   "language": "python",
   "name": "python3"
  },
  "language_info": {
   "codemirror_mode": {
    "name": "ipython",
    "version": 3
   },
   "file_extension": ".py",
   "mimetype": "text/x-python",
   "name": "python",
   "nbconvert_exporter": "python",
   "pygments_lexer": "ipython3",
   "version": "3.6.8"
  }
 },
 "nbformat": 4,
 "nbformat_minor": 2
}
